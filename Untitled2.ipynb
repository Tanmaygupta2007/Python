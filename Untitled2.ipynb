{
  "nbformat": 4,
  "nbformat_minor": 0,
  "metadata": {
    "colab": {
      "provenance": [],
      "toc_visible": true,
      "authorship_tag": "ABX9TyMzNRCwephvTLQFvvOIzizB",
      "include_colab_link": true
    },
    "kernelspec": {
      "name": "python3",
      "display_name": "Python 3"
    },
    "language_info": {
      "name": "python"
    }
  },
  "cells": [
    {
      "cell_type": "markdown",
      "metadata": {
        "id": "view-in-github",
        "colab_type": "text"
      },
      "source": [
        "<a href=\"https://colab.research.google.com/github/Tanmaygupta2007/Python/blob/main/Untitled2.ipynb\" target=\"_parent\"><img src=\"https://colab.research.google.com/assets/colab-badge.svg\" alt=\"Open In Colab\"/></a>"
      ]
    },
    {
      "cell_type": "code",
      "execution_count": 3,
      "metadata": {
        "colab": {
          "base_uri": "https://localhost:8080/"
        },
        "id": "zc0XgvyFmmTP",
        "outputId": "c7e5333e-0781-4d42-c3bb-2f2ff68f0e42"
      },
      "outputs": [
        {
          "output_type": "stream",
          "name": "stdout",
          "text": [
            "Original List: [1, 2, 3, 4, 5]\n",
            "List after adding an element: [1, 2, 3, 4, 5, 6]\n",
            "List after removing an element: [1, 2, 4, 5, 6]\n",
            "List after modifying an element: [1, 2, 10, 5, 6]\n",
            "\n",
            "Original Dictionary: {'a': 1, 'b': 2, 'c': 3}\n",
            "Dictionary after adding a key-value pair: {'a': 1, 'b': 2, 'c': 3, 'd': 4}\n",
            "Dictionary after removing a key-value pair: {'a': 1, 'c': 3, 'd': 4}\n",
            "Dictionary after modifying a value: {'a': 1, 'c': 30, 'd': 4}\n",
            "\n",
            "Original Set: {1, 2, 3, 4, 5}\n",
            "Set after adding an element: {1, 2, 3, 4, 5, 6}\n",
            "Set after removing an element: {1, 2, 4, 5, 6}\n"
          ]
        }
      ],
      "source": [
        "#Creating a list\n",
        "Tanmay_list = [1, 2, 3, 4, 5]\n",
        "print(\"Original List:\", Tanmay_list)\n",
        "\n",
        "# Adding an element to the list\n",
        "Tanmay_list.append(6)\n",
        "print(\"List after adding an element:\", Tanmay_list)\n",
        "\n",
        "# Removing an element from the list\n",
        "Tanmay_list.remove(3)\n",
        "print(\"List after removing an element:\", Tanmay_list)\n",
        "\n",
        "# Modifying an element in the list\n",
        "Tanmay_list[2] = 10\n",
        "print(\"List after modifying an element:\", Tanmay_list)\n",
        "\n",
        "# Creating a dictionary\n",
        "Tanmay_dict = {'a': 1, 'b': 2, 'c': 3}\n",
        "print(\"\\nOriginal Dictionary:\",Tanmay_dict)\n",
        "\n",
        "# Adding a key-value pair to the dictionary\n",
        "Tanmay_dict['d'] = 4\n",
        "print(\"Dictionary after adding a key-value pair:\", Tanmay_dict)\n",
        "\n",
        "# Removing a key-value pair from the dictionary\n",
        "del Tanmay_dict['b']\n",
        "print(\"Dictionary after removing a key-value pair:\", Tanmay_dict)\n",
        "\n",
        "# Modifying a value in the dictionary\n",
        "Tanmay_dict['c'] = 30\n",
        "print(\"Dictionary after modifying a value:\", Tanmay_dict)\n",
        "\n",
        "# Creating a set\n",
        "Tanmay_set = {1, 2, 3, 4, 5}\n",
        "print(\"\\nOriginal Set:\", Tanmay_set)\n",
        "\n",
        "# Adding an element to the set\n",
        "Tanmay_set.add(6)\n",
        "print(\"Set after adding an element:\", Tanmay_set)\n",
        "\n",
        "# Removing an element from the set\n",
        "Tanmay_set.remove(3)\n",
        "print(\"Set after removing an element:\", Tanmay_set)\n"
      ]
    }
  ]
}